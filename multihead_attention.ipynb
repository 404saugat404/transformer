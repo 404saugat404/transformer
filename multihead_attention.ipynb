{
  "nbformat": 4,
  "nbformat_minor": 0,
  "metadata": {
    "colab": {
      "provenance": []
    },
    "kernelspec": {
      "name": "python3",
      "display_name": "Python 3"
    },
    "language_info": {
      "name": "python"
    }
  },
  "cells": [
    {
      "cell_type": "markdown",
      "source": [
        "#here we will learn to manually construct multi-head attention mechanism\n"
      ],
      "metadata": {
        "id": "PeRaCq5hWnk2"
      }
    },
    {
      "cell_type": "code",
      "execution_count": 1,
      "metadata": {
        "id": "swQAnzx5WWB5"
      },
      "outputs": [],
      "source": [
        "import numpy as np\n",
        "import torch\n",
        "from torch import nn\n",
        "import torch.nn.functional as F\n"
      ]
    },
    {
      "cell_type": "code",
      "source": [
        "#we will try for sentence \"my name is saugat thapa\"\n",
        "seq_len=4            #it is the sequence length of input\n",
        "batch_size=1\n",
        "input_dim=512  #it is the input dimension for attention layer\n",
        "d_model=512    #d_model is output dimension of attention layer"
      ],
      "metadata": {
        "id": "1VLn5TRbWm6c"
      },
      "execution_count": 2,
      "outputs": []
    },
    {
      "cell_type": "code",
      "source": [
        "#now lets define a random tensor for now\n",
        "x=torch.randn((batch_size,seq_len,input_dim))\n",
        "x"
      ],
      "metadata": {
        "colab": {
          "base_uri": "https://localhost:8080/"
        },
        "id": "bt_rx4CQXGNo",
        "outputId": "e9bba983-86bd-4ffc-f177-d4465ed88920"
      },
      "execution_count": 3,
      "outputs": [
        {
          "output_type": "execute_result",
          "data": {
            "text/plain": [
              "tensor([[[ 0.7212, -0.0142,  0.6118,  ..., -0.3112,  0.9203,  0.2959],\n",
              "         [ 1.1786, -0.6677, -0.0272,  ...,  1.4543,  1.3518,  0.5673],\n",
              "         [ 0.9175,  0.2883,  1.6722,  ...,  0.0447,  2.0479, -1.5610],\n",
              "         [ 1.5324, -0.0286,  0.9118,  ...,  1.9278,  0.6801,  0.7101]]])"
            ]
          },
          "metadata": {},
          "execution_count": 3
        }
      ]
    },
    {
      "cell_type": "code",
      "source": [
        "x.shape"
      ],
      "metadata": {
        "colab": {
          "base_uri": "https://localhost:8080/"
        },
        "id": "6JrgsoW6XY6j",
        "outputId": "0881d745-8735-4a21-b3fc-41552ece8926"
      },
      "execution_count": 4,
      "outputs": [
        {
          "output_type": "execute_result",
          "data": {
            "text/plain": [
              "torch.Size([1, 4, 512])"
            ]
          },
          "metadata": {},
          "execution_count": 4
        }
      ]
    },
    {
      "cell_type": "markdown",
      "source": [
        "#now , for each word has to have a seperate q,k and v layer"
      ],
      "metadata": {
        "id": "rROgaQ5aXqzy"
      }
    },
    {
      "cell_type": "code",
      "source": [
        "qkv_layer=nn.Linear(input_dim,3*d_model)\n",
        "qkv_layer"
      ],
      "metadata": {
        "colab": {
          "base_uri": "https://localhost:8080/"
        },
        "id": "sJXol60RXa4h",
        "outputId": "7a8b6849-3d54-4b34-ef46-ff6a799069cf"
      },
      "execution_count": 5,
      "outputs": [
        {
          "output_type": "execute_result",
          "data": {
            "text/plain": [
              "Linear(in_features=512, out_features=1536, bias=True)"
            ]
          },
          "metadata": {},
          "execution_count": 5
        }
      ]
    },
    {
      "cell_type": "code",
      "source": [
        "qkv=qkv_layer(x)\n",
        "qkv"
      ],
      "metadata": {
        "colab": {
          "base_uri": "https://localhost:8080/"
        },
        "id": "mUvGqVUVX3TJ",
        "outputId": "22eb1467-858d-4e45-e84c-5f9c9fa91a0b"
      },
      "execution_count": 6,
      "outputs": [
        {
          "output_type": "execute_result",
          "data": {
            "text/plain": [
              "tensor([[[ 0.2406,  0.2070, -0.3991,  ..., -0.3147, -0.3860,  0.0812],\n",
              "         [-0.6124,  0.4178,  0.4701,  ..., -0.7358, -1.1516,  0.6021],\n",
              "         [-0.9050,  0.3097, -1.3377,  ...,  0.4068,  0.0830,  0.0061],\n",
              "         [-0.6106,  0.1591, -0.1440,  ...,  0.2588, -0.4249, -0.7088]]],\n",
              "       grad_fn=<ViewBackward0>)"
            ]
          },
          "metadata": {},
          "execution_count": 6
        }
      ]
    },
    {
      "cell_type": "code",
      "source": [
        "qkv.shape"
      ],
      "metadata": {
        "colab": {
          "base_uri": "https://localhost:8080/"
        },
        "id": "vCcJcDDWX_y-",
        "outputId": "66e7f737-3cb0-4812-a1b6-bff6efd1ecfd"
      },
      "execution_count": 7,
      "outputs": [
        {
          "output_type": "execute_result",
          "data": {
            "text/plain": [
              "torch.Size([1, 4, 1536])"
            ]
          },
          "metadata": {},
          "execution_count": 7
        }
      ]
    },
    {
      "cell_type": "markdown",
      "source": [
        "#now its time to break qkv into q, k and v. for this we first need to define the number of heads as well"
      ],
      "metadata": {
        "id": "a9v0a9mlYVGu"
      }
    },
    {
      "cell_type": "code",
      "source": [
        "num_head=8\n",
        "head_dim=d_model//num_head\n",
        "head_dim"
      ],
      "metadata": {
        "colab": {
          "base_uri": "https://localhost:8080/"
        },
        "id": "pkNbKH49YKpW",
        "outputId": "6d908474-1e45-4246-a96e-a9aef18eb005"
      },
      "execution_count": 8,
      "outputs": [
        {
          "output_type": "execute_result",
          "data": {
            "text/plain": [
              "64"
            ]
          },
          "metadata": {},
          "execution_count": 8
        }
      ]
    },
    {
      "cell_type": "code",
      "source": [
        "qkv=qkv.reshape(batch_size,seq_len,num_head,3*head_dim)\n",
        "qkv"
      ],
      "metadata": {
        "colab": {
          "base_uri": "https://localhost:8080/"
        },
        "id": "0PHjozt1YkXa",
        "outputId": "cea1f841-f984-4503-f9bc-d5e4bc29f534"
      },
      "execution_count": 9,
      "outputs": [
        {
          "output_type": "execute_result",
          "data": {
            "text/plain": [
              "tensor([[[[ 2.4063e-01,  2.0696e-01, -3.9914e-01,  ..., -1.1075e-01,\n",
              "            1.3017e-03, -6.1001e-01],\n",
              "          [ 2.4737e-01, -6.6784e-01, -1.6286e-01,  ...,  6.8161e-01,\n",
              "           -3.1803e-01,  2.4654e-01],\n",
              "          [-6.5161e-01, -1.8098e-01, -9.7366e-01,  ...,  6.1118e-01,\n",
              "           -9.2225e-01, -6.0308e-02],\n",
              "          ...,\n",
              "          [ 4.5464e-01,  3.3616e-01,  1.4387e-01,  ...,  1.3679e+00,\n",
              "           -9.6658e-01,  3.6016e-01],\n",
              "          [ 8.2309e-01,  1.5208e+00, -1.3530e-01,  ..., -9.8529e-01,\n",
              "           -8.5720e-01, -1.6757e-01],\n",
              "          [ 3.6328e-01, -4.3468e-01,  5.5090e-01,  ..., -3.1467e-01,\n",
              "           -3.8600e-01,  8.1195e-02]],\n",
              "\n",
              "         [[-6.1240e-01,  4.1776e-01,  4.7006e-01,  ...,  2.8078e-01,\n",
              "           -2.4050e-01, -2.4242e-02],\n",
              "          [-7.1398e-01, -4.9218e-01, -6.5523e-01,  ...,  7.5884e-02,\n",
              "            1.9267e-01, -1.1549e+00],\n",
              "          [-6.3247e-01,  1.6318e-01, -2.1625e+00,  ...,  1.8444e+00,\n",
              "           -8.4474e-01, -3.4760e-01],\n",
              "          ...,\n",
              "          [-7.1646e-01, -5.4551e-01,  3.5363e-01,  ...,  4.6774e-01,\n",
              "            7.7478e-02, -3.5640e-01],\n",
              "          [ 8.0778e-01, -7.3866e-01, -2.7116e-01,  ...,  1.4224e-01,\n",
              "           -1.1342e+00,  4.9318e-01],\n",
              "          [-5.6805e-02,  4.0776e-01,  4.5424e-01,  ..., -7.3582e-01,\n",
              "           -1.1516e+00,  6.0214e-01]],\n",
              "\n",
              "         [[-9.0504e-01,  3.0974e-01, -1.3377e+00,  ..., -5.3048e-01,\n",
              "           -1.8266e-01, -6.8369e-01],\n",
              "          [-1.0361e-01,  2.4889e-01, -4.7154e-01,  ..., -7.2084e-01,\n",
              "            6.7125e-01, -4.7430e-01],\n",
              "          [-1.0222e+00,  7.5440e-01,  2.5371e-01,  ...,  5.4561e-01,\n",
              "           -5.0290e-01,  9.0662e-01],\n",
              "          ...,\n",
              "          [-1.4020e-01, -1.4543e+00, -5.8993e-01,  ..., -7.8200e-01,\n",
              "            2.9606e-01, -4.4857e-02],\n",
              "          [ 4.5948e-01,  2.7973e-01, -4.7323e-01,  ..., -4.1234e-01,\n",
              "           -1.2637e-01,  6.0421e-01],\n",
              "          [ 8.9205e-01,  4.7322e-01, -3.4389e-01,  ...,  4.0676e-01,\n",
              "            8.3020e-02,  6.0541e-03]],\n",
              "\n",
              "         [[-6.1064e-01,  1.5906e-01, -1.4398e-01,  ...,  5.0319e-01,\n",
              "            1.1297e+00,  4.7381e-02],\n",
              "          [ 3.7093e-01, -1.0885e-01, -2.5968e-01,  ..., -5.0387e-01,\n",
              "            3.9368e-01,  3.0402e-01],\n",
              "          [-3.3696e-01,  3.3938e-01, -1.6817e-01,  ...,  3.5417e-01,\n",
              "           -8.5213e-01,  4.2618e-01],\n",
              "          ...,\n",
              "          [ 9.8002e-01,  2.6394e-01,  7.4183e-01,  ..., -1.8010e-01,\n",
              "            7.7340e-01,  5.0871e-01],\n",
              "          [ 1.2124e-01, -3.8124e-01, -5.3683e-01,  ..., -7.7755e-01,\n",
              "           -1.5923e+00,  6.4558e-01],\n",
              "          [ 2.2766e-01, -4.7748e-02, -1.3655e-01,  ...,  2.5878e-01,\n",
              "           -4.2494e-01, -7.0881e-01]]]], grad_fn=<ViewBackward0>)"
            ]
          },
          "metadata": {},
          "execution_count": 9
        }
      ]
    },
    {
      "cell_type": "code",
      "source": [
        "qkv.shape"
      ],
      "metadata": {
        "colab": {
          "base_uri": "https://localhost:8080/"
        },
        "id": "LpaZu7NxY9qR",
        "outputId": "02eb88cf-ad5f-49df-b98d-1032f6b5620b"
      },
      "execution_count": 10,
      "outputs": [
        {
          "output_type": "execute_result",
          "data": {
            "text/plain": [
              "torch.Size([1, 4, 8, 192])"
            ]
          },
          "metadata": {},
          "execution_count": 10
        }
      ]
    },
    {
      "cell_type": "markdown",
      "source": [
        "now , just for easier purposes, lets change the position of head and seq length so that it becomes easier for language translation later"
      ],
      "metadata": {
        "id": "LMJ5e2wFZfPs"
      }
    },
    {
      "cell_type": "code",
      "source": [
        "qkv=qkv.permute(0,2,1,3)\n",
        "qkv.shape"
      ],
      "metadata": {
        "colab": {
          "base_uri": "https://localhost:8080/"
        },
        "id": "7E4k88VeZNrq",
        "outputId": "109e80c2-1206-4383-aebb-645c5797b694"
      },
      "execution_count": 11,
      "outputs": [
        {
          "output_type": "execute_result",
          "data": {
            "text/plain": [
              "torch.Size([1, 8, 4, 192])"
            ]
          },
          "metadata": {},
          "execution_count": 11
        }
      ]
    },
    {
      "cell_type": "code",
      "source": [
        "q,k,v=qkv.chunk(3,dim=-1) #(2,dim=-1) means 192/3=64 each"
      ],
      "metadata": {
        "id": "LMWchhZNZkoi"
      },
      "execution_count": 12,
      "outputs": []
    },
    {
      "cell_type": "code",
      "source": [
        "q,k,v"
      ],
      "metadata": {
        "colab": {
          "base_uri": "https://localhost:8080/"
        },
        "id": "tl9ZqQeMZ4Hb",
        "outputId": "d9d09a7e-d775-4773-b135-8b9258110018"
      },
      "execution_count": 13,
      "outputs": [
        {
          "output_type": "execute_result",
          "data": {
            "text/plain": [
              "(tensor([[[[ 0.2406,  0.2070, -0.3991,  ..., -0.5780, -0.3726, -0.4981],\n",
              "           [-0.6124,  0.4178,  0.4701,  ...,  0.0416,  0.1303, -1.2610],\n",
              "           [-0.9050,  0.3097, -1.3377,  ...,  0.4112,  0.3365,  0.4393],\n",
              "           [-0.6106,  0.1591, -0.1440,  ...,  0.7123, -0.6369, -0.4240]],\n",
              " \n",
              "          [[ 0.2474, -0.6678, -0.1629,  ...,  0.5126, -1.3661, -0.9694],\n",
              "           [-0.7140, -0.4922, -0.6552,  ..., -0.1578, -0.5739, -0.4801],\n",
              "           [-0.1036,  0.2489, -0.4715,  ..., -1.3450,  0.3991,  0.1433],\n",
              "           [ 0.3709, -0.1088, -0.2597,  ...,  0.3463,  0.1919,  0.6347]],\n",
              " \n",
              "          [[-0.6516, -0.1810, -0.9737,  ..., -0.3461, -0.7106, -0.8943],\n",
              "           [-0.6325,  0.1632, -2.1625,  ...,  0.1436,  0.2483,  0.1061],\n",
              "           [-1.0222,  0.7544,  0.2537,  ...,  0.7643,  0.7101, -0.4133],\n",
              "           [-0.3370,  0.3394, -0.1682,  ..., -0.5278,  0.9090,  0.7087]],\n",
              " \n",
              "          ...,\n",
              " \n",
              "          [[ 0.4546,  0.3362,  0.1439,  ..., -0.7314,  0.7460, -0.6375],\n",
              "           [-0.7165, -0.5455,  0.3536,  ...,  0.2071,  0.1850,  0.6404],\n",
              "           [-0.1402, -1.4543, -0.5899,  ...,  0.4322, -0.7196, -0.0834],\n",
              "           [ 0.9800,  0.2639,  0.7418,  ...,  0.3013, -0.2079, -0.1924]],\n",
              " \n",
              "          [[ 0.8231,  1.5208, -0.1353,  ..., -0.7169, -0.7623, -1.6695],\n",
              "           [ 0.8078, -0.7387, -0.2712,  ..., -0.0142, -0.1405,  0.8407],\n",
              "           [ 0.4595,  0.2797, -0.4732,  ..., -0.8563,  0.0606, -0.1410],\n",
              "           [ 0.1212, -0.3812, -0.5368,  ..., -0.8059,  0.4677, -0.8418]],\n",
              " \n",
              "          [[ 0.3633, -0.4347,  0.5509,  ...,  0.3083,  0.3999, -1.0929],\n",
              "           [-0.0568,  0.4078,  0.4542,  ...,  0.9264,  0.6214, -0.9642],\n",
              "           [ 0.8921,  0.4732, -0.3439,  ..., -0.3644, -0.0478,  0.1802],\n",
              "           [ 0.2277, -0.0477, -0.1365,  ...,  0.2090,  1.0105,  0.0674]]]],\n",
              "        grad_fn=<SplitBackward0>),\n",
              " tensor([[[[-3.8773e-01, -1.1967e+00,  3.5930e-01,  ..., -6.3225e-01,\n",
              "             3.5755e-01,  2.4352e-01],\n",
              "           [-2.4608e-01,  2.7445e-01, -6.1563e-01,  ..., -3.4973e-01,\n",
              "             3.0460e-01,  2.4181e-01],\n",
              "           [-1.5145e-01,  5.6435e-01,  2.2731e-01,  ...,  6.9886e-01,\n",
              "            -4.1155e-02, -5.7520e-01],\n",
              "           [-9.8536e-02, -7.5176e-01,  1.4355e-01,  ...,  6.2798e-01,\n",
              "            -8.1848e-01, -7.1139e-02]],\n",
              " \n",
              "          [[ 8.4295e-01, -1.1777e-01,  5.0734e-01,  ..., -3.1167e-01,\n",
              "            -6.8559e-02, -4.0500e-01],\n",
              "           [-2.4088e-01, -2.8435e-02,  2.9524e-01,  ...,  1.4117e-01,\n",
              "            -1.2138e+00,  3.8199e-01],\n",
              "           [-9.3971e-01, -8.2696e-01,  8.4021e-01,  ..., -5.7415e-01,\n",
              "             5.3764e-01, -4.7365e-01],\n",
              "           [ 1.4139e-01,  1.8973e-01,  5.0468e-01,  ...,  6.3046e-01,\n",
              "             1.6207e-02, -1.2050e+00]],\n",
              " \n",
              "          [[-1.6569e-02, -5.4365e-01,  1.4401e-01,  ..., -8.9974e-01,\n",
              "            -1.4148e-01,  2.2209e-01],\n",
              "           [ 1.3385e-01,  9.9170e-02, -1.8750e-01,  ...,  1.2703e-01,\n",
              "            -3.4747e-01,  3.9919e-01],\n",
              "           [ 1.0871e-01, -1.9709e-02,  2.7323e-01,  ...,  4.8402e-01,\n",
              "             9.4946e-01,  8.1041e-01],\n",
              "           [-1.2928e-01, -1.0123e+00,  2.2654e-01,  ..., -1.1514e-01,\n",
              "             2.6803e-01,  3.5339e-01]],\n",
              " \n",
              "          ...,\n",
              " \n",
              "          [[ 1.9108e-01,  4.9575e-01, -6.9482e-01,  ...,  4.0511e-01,\n",
              "            -3.4376e-01, -3.9361e-01],\n",
              "           [-4.9614e-01, -1.4739e-01, -1.3384e+00,  ..., -7.2632e-01,\n",
              "            -6.1840e-01, -1.7857e-01],\n",
              "           [ 1.8566e-01, -3.9705e-01,  3.1443e-01,  ...,  1.5043e-01,\n",
              "             5.5511e-01,  2.3687e-01],\n",
              "           [-7.4744e-02, -1.3744e-01,  2.7208e-01,  ...,  2.8151e-01,\n",
              "            -5.4810e-01,  6.7985e-01]],\n",
              " \n",
              "          [[ 3.2587e-01,  6.2579e-01, -6.4111e-01,  ...,  6.9469e-01,\n",
              "             2.1866e-01,  6.6290e-01],\n",
              "           [ 3.0121e-02,  2.4972e-01,  7.3940e-04,  ...,  2.3393e-01,\n",
              "            -5.6824e-02, -5.3319e-01],\n",
              "           [-8.5005e-01,  6.0175e-01, -1.0213e-01,  ...,  3.7040e-01,\n",
              "             1.9509e-02, -4.3164e-02],\n",
              "           [-3.2614e-01,  2.1029e-01, -1.1990e+00,  ..., -3.7986e-01,\n",
              "            -3.7436e-01,  3.4419e-01]],\n",
              " \n",
              "          [[ 1.0857e-01, -7.7237e-02, -1.0512e+00,  ...,  4.5591e-02,\n",
              "             2.4197e-01, -6.0146e-01],\n",
              "           [-8.6199e-01,  1.6700e-01,  2.2532e-02,  ..., -9.3833e-01,\n",
              "             8.5689e-01, -1.1355e+00],\n",
              "           [ 1.0125e+00, -7.5124e-01,  1.7936e-01,  ...,  1.0895e+00,\n",
              "            -1.1614e-01,  3.5583e-01],\n",
              "           [-1.0790e-01, -7.3505e-02,  8.1947e-01,  ..., -1.2037e-01,\n",
              "             3.1649e-01, -5.1424e-01]]]], grad_fn=<SplitBackward0>),\n",
              " tensor([[[[-4.3141e-01, -4.1505e-01, -9.4098e-01,  ..., -1.1075e-01,\n",
              "             1.3017e-03, -6.1001e-01],\n",
              "           [-4.4235e-01,  3.6005e-01, -5.6483e-02,  ...,  2.8078e-01,\n",
              "            -2.4050e-01, -2.4242e-02],\n",
              "           [-1.2764e-01,  5.0148e-01, -6.4570e-01,  ..., -5.3048e-01,\n",
              "            -1.8266e-01, -6.8369e-01],\n",
              "           [ 1.1121e+00,  9.6342e-02, -3.2099e-01,  ...,  5.0319e-01,\n",
              "             1.1297e+00,  4.7381e-02]],\n",
              " \n",
              "          [[-4.4184e-01, -7.7996e-02,  6.8422e-01,  ...,  6.8161e-01,\n",
              "            -3.1803e-01,  2.4654e-01],\n",
              "           [ 3.7650e-01, -1.0445e+00, -1.0926e+00,  ...,  7.5884e-02,\n",
              "             1.9267e-01, -1.1549e+00],\n",
              "           [ 5.6786e-01, -2.0772e-01,  8.8826e-01,  ..., -7.2084e-01,\n",
              "             6.7125e-01, -4.7430e-01],\n",
              "           [ 1.0945e-02, -1.1691e-01,  6.7317e-01,  ..., -5.0387e-01,\n",
              "             3.9368e-01,  3.0402e-01]],\n",
              " \n",
              "          [[ 2.6102e-01, -2.3570e-01,  2.6026e-01,  ...,  6.1118e-01,\n",
              "            -9.2225e-01, -6.0308e-02],\n",
              "           [-6.2163e-01, -1.7612e-01, -4.7997e-01,  ...,  1.8444e+00,\n",
              "            -8.4474e-01, -3.4760e-01],\n",
              "           [ 3.5716e-01,  4.9921e-01, -1.6548e-01,  ...,  5.4561e-01,\n",
              "            -5.0290e-01,  9.0662e-01],\n",
              "           [-4.6278e-02, -2.7197e-01,  3.1947e-01,  ...,  3.5417e-01,\n",
              "            -8.5213e-01,  4.2618e-01]],\n",
              " \n",
              "          ...,\n",
              " \n",
              "          [[-6.3430e-01,  3.2088e-01,  2.6451e-02,  ...,  1.3679e+00,\n",
              "            -9.6658e-01,  3.6016e-01],\n",
              "           [-9.0016e-01,  1.3663e+00, -2.8371e-01,  ...,  4.6774e-01,\n",
              "             7.7478e-02, -3.5640e-01],\n",
              "           [-1.0957e-01, -3.6418e-01,  1.2094e-01,  ..., -7.8200e-01,\n",
              "             2.9606e-01, -4.4857e-02],\n",
              "           [-7.0841e-01,  2.2438e-01, -1.6571e-01,  ..., -1.8010e-01,\n",
              "             7.7340e-01,  5.0871e-01]],\n",
              " \n",
              "          [[-1.4968e-01, -5.4536e-01,  6.1172e-01,  ..., -9.8529e-01,\n",
              "            -8.5720e-01, -1.6757e-01],\n",
              "           [ 1.9804e+00, -5.1027e-01, -4.9195e-02,  ...,  1.4224e-01,\n",
              "            -1.1342e+00,  4.9318e-01],\n",
              "           [ 4.6544e-01, -3.0592e-01, -2.1367e-01,  ..., -4.1234e-01,\n",
              "            -1.2637e-01,  6.0421e-01],\n",
              "           [-9.3873e-01,  8.8219e-01,  4.8866e-01,  ..., -7.7755e-01,\n",
              "            -1.5923e+00,  6.4558e-01]],\n",
              " \n",
              "          [[ 5.8608e-02,  1.5356e+00,  2.1509e-01,  ..., -3.1467e-01,\n",
              "            -3.8600e-01,  8.1195e-02],\n",
              "           [ 1.0526e-01,  1.0541e-01, -3.5735e-01,  ..., -7.3582e-01,\n",
              "            -1.1516e+00,  6.0214e-01],\n",
              "           [ 4.1029e-01, -2.0297e-01,  4.9312e-01,  ...,  4.0676e-01,\n",
              "             8.3020e-02,  6.0541e-03],\n",
              "           [-4.8837e-01,  4.4287e-01, -1.0136e-01,  ...,  2.5878e-01,\n",
              "            -4.2494e-01, -7.0881e-01]]]], grad_fn=<SplitBackward0>))"
            ]
          },
          "metadata": {},
          "execution_count": 13
        }
      ]
    },
    {
      "cell_type": "code",
      "source": [
        "q.shape,k.shape,v.shape"
      ],
      "metadata": {
        "colab": {
          "base_uri": "https://localhost:8080/"
        },
        "id": "ZPPsPsrgZ9U-",
        "outputId": "8475f193-201e-4621-de10-b5f9c0a83223"
      },
      "execution_count": 14,
      "outputs": [
        {
          "output_type": "execute_result",
          "data": {
            "text/plain": [
              "(torch.Size([1, 8, 4, 64]),\n",
              " torch.Size([1, 8, 4, 64]),\n",
              " torch.Size([1, 8, 4, 64]))"
            ]
          },
          "metadata": {},
          "execution_count": 14
        }
      ]
    },
    {
      "cell_type": "markdown",
      "source": [
        "#now the other process is similar to self attention layer\n",
        "![image.png](data:image/png;base64,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)"
      ],
      "metadata": {
        "id": "bAbvG7-AaDEv"
      }
    },
    {
      "cell_type": "code",
      "source": [
        "d_k=q.shape[-1]\n",
        "d_k\n",
        "#d_k= size of input vector here our vector size is 64"
      ],
      "metadata": {
        "colab": {
          "base_uri": "https://localhost:8080/"
        },
        "id": "xfLh4oHJaAYj",
        "outputId": "0dc34ea3-3fb0-4850-d01e-261de9f598f8"
      },
      "execution_count": 15,
      "outputs": [
        {
          "output_type": "execute_result",
          "data": {
            "text/plain": [
              "64"
            ]
          },
          "metadata": {},
          "execution_count": 15
        }
      ]
    },
    {
      "cell_type": "code",
      "source": [
        "import math\n",
        "scaled=torch.matmul(q,k.transpose(-2,-1))/math.sqrt(d_k)\n",
        "scaled.shape\n",
        "#note: if you are confused , then please first check the self attention ipynb file, there all these things are well explained"
      ],
      "metadata": {
        "colab": {
          "base_uri": "https://localhost:8080/"
        },
        "id": "WD3OlFpkaxG7",
        "outputId": "d673e643-1cb7-4edb-e8ee-9479c12c3b37"
      },
      "execution_count": 16,
      "outputs": [
        {
          "output_type": "execute_result",
          "data": {
            "text/plain": [
              "torch.Size([1, 8, 4, 4])"
            ]
          },
          "metadata": {},
          "execution_count": 16
        }
      ]
    },
    {
      "cell_type": "code",
      "source": [
        "#note:\n",
        "#transpose order doesnt matter . see the example below\n",
        "y=torch.randn(2,3)\n",
        "y"
      ],
      "metadata": {
        "colab": {
          "base_uri": "https://localhost:8080/"
        },
        "id": "hbSy8sBPbCnV",
        "outputId": "87892a04-b1f7-4d6f-e179-df63047623bb"
      },
      "execution_count": 17,
      "outputs": [
        {
          "output_type": "execute_result",
          "data": {
            "text/plain": [
              "tensor([[-1.4485, -0.4559, -0.4585],\n",
              "        [-1.6612, -1.1167,  0.3556]])"
            ]
          },
          "metadata": {},
          "execution_count": 17
        }
      ]
    },
    {
      "cell_type": "code",
      "source": [
        "a=torch.transpose(y,0,1)\n",
        "a"
      ],
      "metadata": {
        "colab": {
          "base_uri": "https://localhost:8080/"
        },
        "id": "QoaxEMAUqqaA",
        "outputId": "01bbdd08-ddaa-4ddd-fd0d-5563b6eb0453"
      },
      "execution_count": 18,
      "outputs": [
        {
          "output_type": "execute_result",
          "data": {
            "text/plain": [
              "tensor([[-1.4485, -1.6612],\n",
              "        [-0.4559, -1.1167],\n",
              "        [-0.4585,  0.3556]])"
            ]
          },
          "metadata": {},
          "execution_count": 18
        }
      ]
    },
    {
      "cell_type": "code",
      "source": [
        "b=torch.transpose(y,1,0)\n",
        "b"
      ],
      "metadata": {
        "colab": {
          "base_uri": "https://localhost:8080/"
        },
        "id": "iW23_0Q0q0tv",
        "outputId": "367f28ee-c564-4ea3-a5d5-d8fa2744a462"
      },
      "execution_count": 19,
      "outputs": [
        {
          "output_type": "execute_result",
          "data": {
            "text/plain": [
              "tensor([[-1.4485, -1.6612],\n",
              "        [-0.4559, -1.1167],\n",
              "        [-0.4585,  0.3556]])"
            ]
          },
          "metadata": {},
          "execution_count": 19
        }
      ]
    },
    {
      "cell_type": "code",
      "source": [
        "a==b"
      ],
      "metadata": {
        "colab": {
          "base_uri": "https://localhost:8080/"
        },
        "id": "K9ZUzf6Fq6m1",
        "outputId": "0e301d1a-7a78-4813-89cb-801f9c80e393"
      },
      "execution_count": 20,
      "outputs": [
        {
          "output_type": "execute_result",
          "data": {
            "text/plain": [
              "tensor([[True, True],\n",
              "        [True, True],\n",
              "        [True, True]])"
            ]
          },
          "metadata": {},
          "execution_count": 20
        }
      ]
    },
    {
      "cell_type": "markdown",
      "source": [
        "#masking\n"
      ],
      "metadata": {
        "id": "aNG4ubYbrBi8"
      }
    },
    {
      "cell_type": "code",
      "source": [
        "mask=torch.full(scaled.shape,float('-inf'))\n",
        "\n",
        "mask=torch.triu(mask,diagonal=1)\n",
        "mask[0][1]"
      ],
      "metadata": {
        "colab": {
          "base_uri": "https://localhost:8080/"
        },
        "id": "rn9UBQWUq8Mb",
        "outputId": "72c1c03e-d1ea-4b1e-ca12-401dbfa74c56"
      },
      "execution_count": 22,
      "outputs": [
        {
          "output_type": "execute_result",
          "data": {
            "text/plain": [
              "tensor([[0., -inf, -inf, -inf],\n",
              "        [0., 0., -inf, -inf],\n",
              "        [0., 0., 0., -inf],\n",
              "        [0., 0., 0., 0.]])"
            ]
          },
          "metadata": {},
          "execution_count": 22
        }
      ]
    },
    {
      "cell_type": "code",
      "source": [
        "mask.shape"
      ],
      "metadata": {
        "colab": {
          "base_uri": "https://localhost:8080/"
        },
        "id": "GBdfNET8sNsj",
        "outputId": "32a5abb1-1e37-4589-ccea-08ef27e29c52"
      },
      "execution_count": 24,
      "outputs": [
        {
          "output_type": "execute_result",
          "data": {
            "text/plain": [
              "torch.Size([1, 8, 4, 4])"
            ]
          },
          "metadata": {},
          "execution_count": 24
        }
      ]
    },
    {
      "cell_type": "code",
      "source": [
        "scaled=scaled+mask"
      ],
      "metadata": {
        "id": "KYVDoWRBtHxL"
      },
      "execution_count": 25,
      "outputs": []
    },
    {
      "cell_type": "code",
      "source": [
        "scaled[0][1]"
      ],
      "metadata": {
        "colab": {
          "base_uri": "https://localhost:8080/"
        },
        "id": "pYTOugbhtO9m",
        "outputId": "194f7b2f-8238-47d7-908b-c9b748f12a59"
      },
      "execution_count": 27,
      "outputs": [
        {
          "output_type": "execute_result",
          "data": {
            "text/plain": [
              "tensor([[ 0.5396,    -inf,    -inf,    -inf],\n",
              "        [ 0.1383, -0.0305,    -inf,    -inf],\n",
              "        [ 0.1577,  0.1625,  0.2831,    -inf],\n",
              "        [-0.2962, -0.3705,  0.4369, -0.3036]], grad_fn=<SelectBackward0>)"
            ]
          },
          "metadata": {},
          "execution_count": 27
        }
      ]
    },
    {
      "cell_type": "code",
      "source": [
        "scaled.shape"
      ],
      "metadata": {
        "colab": {
          "base_uri": "https://localhost:8080/"
        },
        "id": "T0fpjzFet0Mn",
        "outputId": "7b7b4333-78b8-43b7-ac7b-fee15a6b6410"
      },
      "execution_count": 28,
      "outputs": [
        {
          "output_type": "execute_result",
          "data": {
            "text/plain": [
              "torch.Size([1, 8, 4, 4])"
            ]
          },
          "metadata": {},
          "execution_count": 28
        }
      ]
    },
    {
      "cell_type": "markdown",
      "source": [
        "#attention mechanism\n"
      ],
      "metadata": {
        "id": "RaR7OQVbtojm"
      }
    },
    {
      "cell_type": "code",
      "source": [
        "attention=F.softmax(scaled,dim=-1)  #here dim=-1 means 4 ie each row is applied with attention mechanism\n",
        "attention"
      ],
      "metadata": {
        "colab": {
          "base_uri": "https://localhost:8080/"
        },
        "id": "JiIIZAWctREH",
        "outputId": "d0435151-a5a9-4cb2-a142-c3e58853ec73"
      },
      "execution_count": 29,
      "outputs": [
        {
          "output_type": "execute_result",
          "data": {
            "text/plain": [
              "tensor([[[[1.0000, 0.0000, 0.0000, 0.0000],\n",
              "          [0.4391, 0.5609, 0.0000, 0.0000],\n",
              "          [0.2126, 0.4198, 0.3676, 0.0000],\n",
              "          [0.1799, 0.3101, 0.2566, 0.2534]],\n",
              "\n",
              "         [[1.0000, 0.0000, 0.0000, 0.0000],\n",
              "          [0.5421, 0.4579, 0.0000, 0.0000],\n",
              "          [0.3186, 0.3202, 0.3612, 0.0000],\n",
              "          [0.1999, 0.1856, 0.4161, 0.1984]],\n",
              "\n",
              "         [[1.0000, 0.0000, 0.0000, 0.0000],\n",
              "          [0.3355, 0.6645, 0.0000, 0.0000],\n",
              "          [0.3174, 0.2916, 0.3910, 0.0000],\n",
              "          [0.2774, 0.2628, 0.2586, 0.2012]],\n",
              "\n",
              "         [[1.0000, 0.0000, 0.0000, 0.0000],\n",
              "          [0.4076, 0.5924, 0.0000, 0.0000],\n",
              "          [0.3941, 0.3066, 0.2993, 0.0000],\n",
              "          [0.2044, 0.2735, 0.3336, 0.1885]],\n",
              "\n",
              "         [[1.0000, 0.0000, 0.0000, 0.0000],\n",
              "          [0.6795, 0.3205, 0.0000, 0.0000],\n",
              "          [0.1642, 0.3485, 0.4873, 0.0000],\n",
              "          [0.3006, 0.2015, 0.1932, 0.3047]],\n",
              "\n",
              "         [[1.0000, 0.0000, 0.0000, 0.0000],\n",
              "          [0.6295, 0.3705, 0.0000, 0.0000],\n",
              "          [0.3286, 0.2980, 0.3734, 0.0000],\n",
              "          [0.1803, 0.2800, 0.2943, 0.2455]],\n",
              "\n",
              "         [[1.0000, 0.0000, 0.0000, 0.0000],\n",
              "          [0.6388, 0.3612, 0.0000, 0.0000],\n",
              "          [0.2840, 0.4131, 0.3029, 0.0000],\n",
              "          [0.1766, 0.2141, 0.4001, 0.2093]],\n",
              "\n",
              "         [[1.0000, 0.0000, 0.0000, 0.0000],\n",
              "          [0.5765, 0.4235, 0.0000, 0.0000],\n",
              "          [0.2926, 0.2943, 0.4131, 0.0000],\n",
              "          [0.2282, 0.2927, 0.2733, 0.2058]]]], grad_fn=<SoftmaxBackward0>)"
            ]
          },
          "metadata": {},
          "execution_count": 29
        }
      ]
    },
    {
      "cell_type": "code",
      "source": [
        "attention.shape"
      ],
      "metadata": {
        "colab": {
          "base_uri": "https://localhost:8080/"
        },
        "id": "CtRpdNVyuDTC",
        "outputId": "1b099eb7-2084-441e-f083-de153657343f"
      },
      "execution_count": 30,
      "outputs": [
        {
          "output_type": "execute_result",
          "data": {
            "text/plain": [
              "torch.Size([1, 8, 4, 4])"
            ]
          },
          "metadata": {},
          "execution_count": 30
        }
      ]
    },
    {
      "cell_type": "code",
      "source": [
        "value=torch.matmul(attention,v)\n",
        "value.shape"
      ],
      "metadata": {
        "colab": {
          "base_uri": "https://localhost:8080/"
        },
        "id": "BHyzdAMWuGul",
        "outputId": "92c74667-a102-40f2-a2f1-b04e7fd92060"
      },
      "execution_count": 31,
      "outputs": [
        {
          "output_type": "execute_result",
          "data": {
            "text/plain": [
              "torch.Size([1, 8, 4, 64])"
            ]
          },
          "metadata": {},
          "execution_count": 31
        }
      ]
    },
    {
      "cell_type": "markdown",
      "source": [
        "#functionizing everything we have learned so far"
      ],
      "metadata": {
        "id": "orrccg0GutGe"
      }
    },
    {
      "cell_type": "code",
      "source": [
        "import math\n",
        "def scaled_dot_product(q,k,v, mask=None):\n",
        "  d_k=q.shape[-1]\n",
        "  scaled=torch.matmul(q,k.transpose(-1,-2)/math.sqrt(d_k))\n",
        "  if mask is not None:\n",
        "    scaled+=mask\n",
        "  attention=F.softmax(scaled,dim=-1)\n",
        "  value=torch.matmul(attention,v)\n",
        "  return value, attention"
      ],
      "metadata": {
        "id": "6uFuFCkxuSV8"
      },
      "execution_count": 32,
      "outputs": []
    },
    {
      "cell_type": "code",
      "source": [
        "\n",
        "values, attention = scaled_dot_product(q, k, v, mask=mask)\n"
      ],
      "metadata": {
        "id": "MXHI6nb8vZcj"
      },
      "execution_count": 33,
      "outputs": []
    },
    {
      "cell_type": "code",
      "source": [
        "attention"
      ],
      "metadata": {
        "colab": {
          "base_uri": "https://localhost:8080/"
        },
        "id": "N2tgMYZXvhN8",
        "outputId": "63226e93-13c2-42bf-ca38-d7fd7eab4112"
      },
      "execution_count": 34,
      "outputs": [
        {
          "output_type": "execute_result",
          "data": {
            "text/plain": [
              "tensor([[[[1.0000, 0.0000, 0.0000, 0.0000],\n",
              "          [0.4391, 0.5609, 0.0000, 0.0000],\n",
              "          [0.2126, 0.4198, 0.3676, 0.0000],\n",
              "          [0.1799, 0.3101, 0.2566, 0.2534]],\n",
              "\n",
              "         [[1.0000, 0.0000, 0.0000, 0.0000],\n",
              "          [0.5421, 0.4579, 0.0000, 0.0000],\n",
              "          [0.3186, 0.3202, 0.3612, 0.0000],\n",
              "          [0.1999, 0.1856, 0.4161, 0.1984]],\n",
              "\n",
              "         [[1.0000, 0.0000, 0.0000, 0.0000],\n",
              "          [0.3355, 0.6645, 0.0000, 0.0000],\n",
              "          [0.3174, 0.2916, 0.3910, 0.0000],\n",
              "          [0.2774, 0.2628, 0.2586, 0.2012]],\n",
              "\n",
              "         [[1.0000, 0.0000, 0.0000, 0.0000],\n",
              "          [0.4076, 0.5924, 0.0000, 0.0000],\n",
              "          [0.3941, 0.3066, 0.2993, 0.0000],\n",
              "          [0.2044, 0.2735, 0.3336, 0.1885]],\n",
              "\n",
              "         [[1.0000, 0.0000, 0.0000, 0.0000],\n",
              "          [0.6795, 0.3205, 0.0000, 0.0000],\n",
              "          [0.1642, 0.3485, 0.4873, 0.0000],\n",
              "          [0.3006, 0.2015, 0.1932, 0.3047]],\n",
              "\n",
              "         [[1.0000, 0.0000, 0.0000, 0.0000],\n",
              "          [0.6295, 0.3705, 0.0000, 0.0000],\n",
              "          [0.3286, 0.2980, 0.3734, 0.0000],\n",
              "          [0.1803, 0.2800, 0.2943, 0.2455]],\n",
              "\n",
              "         [[1.0000, 0.0000, 0.0000, 0.0000],\n",
              "          [0.6388, 0.3612, 0.0000, 0.0000],\n",
              "          [0.2840, 0.4131, 0.3029, 0.0000],\n",
              "          [0.1766, 0.2141, 0.4001, 0.2093]],\n",
              "\n",
              "         [[1.0000, 0.0000, 0.0000, 0.0000],\n",
              "          [0.5765, 0.4235, 0.0000, 0.0000],\n",
              "          [0.2926, 0.2943, 0.4131, 0.0000],\n",
              "          [0.2282, 0.2927, 0.2733, 0.2058]]]], grad_fn=<SoftmaxBackward0>)"
            ]
          },
          "metadata": {},
          "execution_count": 34
        }
      ]
    },
    {
      "cell_type": "code",
      "source": [
        "attention.shape\n"
      ],
      "metadata": {
        "colab": {
          "base_uri": "https://localhost:8080/"
        },
        "id": "HdbDOnY3viEk",
        "outputId": "dd762d29-b25b-4893-9d7a-c67b1024f457"
      },
      "execution_count": 35,
      "outputs": [
        {
          "output_type": "execute_result",
          "data": {
            "text/plain": [
              "torch.Size([1, 8, 4, 4])"
            ]
          },
          "metadata": {},
          "execution_count": 35
        }
      ]
    },
    {
      "cell_type": "code",
      "source": [
        "attention[0][0]"
      ],
      "metadata": {
        "colab": {
          "base_uri": "https://localhost:8080/"
        },
        "id": "qOQHdP_Rvj23",
        "outputId": "d5b4640a-42aa-465d-aa30-cb37792de4d0"
      },
      "execution_count": 37,
      "outputs": [
        {
          "output_type": "execute_result",
          "data": {
            "text/plain": [
              "tensor([[1.0000, 0.0000, 0.0000, 0.0000],\n",
              "        [0.4391, 0.5609, 0.0000, 0.0000],\n",
              "        [0.2126, 0.4198, 0.3676, 0.0000],\n",
              "        [0.1799, 0.3101, 0.2566, 0.2534]], grad_fn=<SelectBackward0>)"
            ]
          },
          "metadata": {},
          "execution_count": 37
        }
      ]
    },
    {
      "cell_type": "code",
      "source": [
        "value"
      ],
      "metadata": {
        "colab": {
          "base_uri": "https://localhost:8080/"
        },
        "id": "V-Y4IaXuvlW0",
        "outputId": "4575dfc1-d01b-403f-b74a-bb8d4ae1aa0c"
      },
      "execution_count": 38,
      "outputs": [
        {
          "output_type": "execute_result",
          "data": {
            "text/plain": [
              "tensor([[[[-4.3141e-01, -4.1505e-01, -9.4098e-01,  ..., -1.1075e-01,\n",
              "            1.3017e-03, -6.1001e-01],\n",
              "          [-4.3754e-01,  1.9716e-02, -4.4485e-01,  ...,  1.0887e-01,\n",
              "           -1.3433e-01, -2.8144e-01],\n",
              "          [-3.2434e-01,  2.4725e-01, -4.6113e-01,  ..., -1.0068e-01,\n",
              "           -1.6783e-01, -3.9119e-01],\n",
              "          [ 3.4330e-02,  1.9010e-01, -4.3377e-01,  ...,  5.8598e-02,\n",
              "            1.6510e-01, -2.8063e-01]],\n",
              "\n",
              "         [[-4.4184e-01, -7.7996e-02,  6.8422e-01,  ...,  6.8161e-01,\n",
              "           -3.1803e-01,  2.4654e-01],\n",
              "          [-6.7130e-02, -5.2053e-01, -1.2937e-01,  ...,  4.0425e-01,\n",
              "           -8.4186e-02, -3.9518e-01],\n",
              "          [ 1.8486e-01, -4.3427e-01,  1.8905e-01,  ..., -1.8877e-02,\n",
              "            2.0280e-01, -4.6252e-01],\n",
              "          [ 2.2001e-01, -3.1906e-01,  4.3716e-01,  ..., -2.4959e-01,\n",
              "            3.2960e-01, -3.0210e-01]],\n",
              "\n",
              "         [[ 2.6102e-01, -2.3570e-01,  2.6026e-01,  ...,  6.1118e-01,\n",
              "           -9.2225e-01, -6.0308e-02],\n",
              "          [-3.2549e-01, -1.9611e-01, -2.3161e-01,  ...,  1.4307e+00,\n",
              "           -8.7075e-01, -2.5121e-01],\n",
              "          [ 4.1245e-02,  6.9039e-02, -1.2206e-01,  ...,  9.4515e-01,\n",
              "           -7.3567e-01,  2.3401e-01],\n",
              "          [-7.9167e-03, -3.7327e-02, -3.2427e-02,  ...,  8.6659e-01,\n",
              "           -7.7934e-01,  2.1210e-01]],\n",
              "\n",
              "         ...,\n",
              "\n",
              "         [[-6.3430e-01,  3.2088e-01,  2.6451e-02,  ...,  1.3679e+00,\n",
              "           -9.6658e-01,  3.6016e-01],\n",
              "          [-7.3279e-01,  7.0815e-01, -8.8453e-02,  ...,  1.0344e+00,\n",
              "           -5.7980e-01,  9.4706e-02],\n",
              "          [-5.1760e-01,  3.7663e-01, -3.0704e-02,  ...,  2.9686e-01,\n",
              "           -1.8396e-01, -4.6225e-03],\n",
              "          [-5.7253e-01,  3.8834e-01, -7.9768e-02,  ...,  1.0323e-01,\n",
              "            1.2443e-01,  7.6794e-02]],\n",
              "\n",
              "         [[-1.4968e-01, -5.4536e-01,  6.1172e-01,  ..., -9.8529e-01,\n",
              "           -8.5720e-01, -1.6757e-01],\n",
              "          [ 6.1965e-01, -5.3268e-01,  3.7302e-01,  ..., -5.7806e-01,\n",
              "           -9.5726e-01,  7.1070e-02],\n",
              "          [ 9.1652e-01, -4.5833e-01,  8.8681e-02,  ..., -3.4599e-01,\n",
              "           -7.5023e-01,  3.3916e-01],\n",
              "          [ 3.8739e-01, -1.4333e-01,  1.1425e-01,  ..., -4.7118e-01,\n",
              "           -7.7796e-01,  4.5282e-01]],\n",
              "\n",
              "         [[ 5.8608e-02,  1.5356e+00,  2.1509e-01,  ..., -3.1467e-01,\n",
              "           -3.8600e-01,  8.1195e-02],\n",
              "          [ 7.8365e-02,  9.2993e-01, -2.7321e-02,  ..., -4.9302e-01,\n",
              "           -7.1021e-01,  3.0180e-01],\n",
              "          [ 2.1763e-01,  3.9642e-01,  1.6148e-01,  ..., -1.4058e-01,\n",
              "           -4.1756e-01,  2.0347e-01],\n",
              "          [ 5.5786e-02,  4.1693e-01,  5.8408e-02,  ..., -1.2271e-01,\n",
              "           -4.8989e-01,  5.0499e-02]]]], grad_fn=<UnsafeViewBackward0>)"
            ]
          },
          "metadata": {},
          "execution_count": 38
        }
      ]
    },
    {
      "cell_type": "code",
      "source": [
        "value.shape"
      ],
      "metadata": {
        "colab": {
          "base_uri": "https://localhost:8080/"
        },
        "id": "Funt_nGSvr3T",
        "outputId": "32741279-a478-405f-e781-3cd1b8da6c6e"
      },
      "execution_count": 39,
      "outputs": [
        {
          "output_type": "execute_result",
          "data": {
            "text/plain": [
              "torch.Size([1, 8, 4, 64])"
            ]
          },
          "metadata": {},
          "execution_count": 39
        }
      ]
    },
    {
      "cell_type": "markdown",
      "source": [
        "#now its time to combine and concatinate all the head . ie combine and concatinate everything"
      ],
      "metadata": {
        "id": "UnQpc9Vdv7B5"
      }
    },
    {
      "cell_type": "code",
      "source": [
        "value=value.reshape(batch_size,seq_len,num_head*head_dim)\n",
        "value.shape"
      ],
      "metadata": {
        "colab": {
          "base_uri": "https://localhost:8080/"
        },
        "id": "8qXnl2ctvsmO",
        "outputId": "267f7faa-ab24-487a-b452-51f5a5a40486"
      },
      "execution_count": 48,
      "outputs": [
        {
          "output_type": "execute_result",
          "data": {
            "text/plain": [
              "torch.Size([1, 4, 512])"
            ]
          },
          "metadata": {},
          "execution_count": 48
        }
      ]
    },
    {
      "cell_type": "code",
      "source": [
        "linear_layer=nn.Linear(d_model,d_model)"
      ],
      "metadata": {
        "id": "ZEwfr9SHwVWo"
      },
      "execution_count": 44,
      "outputs": []
    },
    {
      "cell_type": "code",
      "source": [
        "output=linear_layer(value)"
      ],
      "metadata": {
        "id": "jAJj9w51wgYx"
      },
      "execution_count": 45,
      "outputs": []
    },
    {
      "cell_type": "code",
      "source": [
        "output.shape"
      ],
      "metadata": {
        "colab": {
          "base_uri": "https://localhost:8080/"
        },
        "id": "bmt8WoOGwq6R",
        "outputId": "4a44a7b7-01c3-4c60-eebb-a9c9c01948d5"
      },
      "execution_count": 46,
      "outputs": [
        {
          "output_type": "execute_result",
          "data": {
            "text/plain": [
              "torch.Size([1, 4, 512])"
            ]
          },
          "metadata": {},
          "execution_count": 46
        }
      ]
    },
    {
      "cell_type": "code",
      "source": [
        "output"
      ],
      "metadata": {
        "colab": {
          "base_uri": "https://localhost:8080/"
        },
        "id": "Y3zwcop2wsWL",
        "outputId": "5acea57d-4203-47c5-932f-f9c208700889"
      },
      "execution_count": 47,
      "outputs": [
        {
          "output_type": "execute_result",
          "data": {
            "text/plain": [
              "tensor([[[ 0.0763,  0.0563, -0.2609,  ..., -0.2381, -0.1230, -0.0328],\n",
              "         [-0.1078,  0.1675,  0.0630,  ...,  0.2357,  0.2193,  0.3515],\n",
              "         [-0.0946,  0.2540, -0.4949,  ...,  0.2124,  0.3063, -0.2068],\n",
              "         [ 0.1889,  0.2858,  0.1263,  ...,  0.5163,  0.3218, -0.4964]]],\n",
              "       grad_fn=<ViewBackward0>)"
            ]
          },
          "metadata": {},
          "execution_count": 47
        }
      ]
    },
    {
      "cell_type": "markdown",
      "source": [
        "#now lets redo all the above stuff but with class and function"
      ],
      "metadata": {
        "id": "xeKS02dPwzlW"
      }
    },
    {
      "cell_type": "code",
      "source": [
        "import torch\n",
        "import torch.nn as nn\n",
        "import torch.nn.functional as F\n",
        "\n",
        "import math\n",
        "def scaled_dot_product(q,k,v, mask=None):\n",
        "  d_k=q.shape[-1]\n",
        "  scaled=torch.matmul(q,k.transpose(-1,-2)/math.sqrt(d_k))\n",
        "  if mask is not None:\n",
        "    scaled+=mask\n",
        "  attention=F.softmax(scaled,dim=-1)\n",
        "  value=torch.matmul(attention,v)\n",
        "  return value, attention\n",
        "\n",
        "class multi_head_attention(nn.Module):\n",
        "  def __init__(self,input_dim,d_model,num_head):\n",
        "    super().__init__()\n",
        "    self.input_dim=input_dim\n",
        "    self.d_model=d_model\n",
        "    self.num_head=num_head\n",
        "    self.head_dim=d_model//num_head\n",
        "    self.qkv_layer=nn.Linear(input_dim,3*d_model)\n",
        "    self.linear_layer=nn.Linear(d_model,d_model)\n",
        "\n",
        "\n",
        "  def forward(self,x,mask=None):\n",
        "    batch_size,seq_len,input_dim=x.shape\n",
        "    print(f\"x.size(): {x.size()}\")\n",
        "    qkv=self.qkv_layer(x)\n",
        "\n",
        "    #reshaping\n",
        "    qkv=qkv.reshape(batch_size,seq_len,self.num_head,3*self.head_dim)\n",
        "    print(f\"qkv.size(): {qkv.size()}\")\n",
        "    qkv=qkv.permute(0,2,1,3)\n",
        "    print(f\"changed_qkv.size(): {qkv.size()}\")\n",
        "\n",
        "    q,k,v=qkv.chunk(3,dim=-1)\n",
        "    print(f\"q.size(): {q.size()}\")\n",
        "    print(f\"k.size(): {k.size()}\")\n",
        "    print(f\"v.size(): {v.size()}\")\n",
        "\n",
        "\n",
        "    #now lets use the scaled_dot_product\n",
        "    value, attention=scaled_dot_product(q,k,v,mask)\n",
        "    print(f\"value.size(): {value.size()}\")\n",
        "    print(f\"attention.size(): {attention.size()}\")\n",
        "\n",
        "    value=value.reshape(batch_size,seq_len,num_head*head_dim)\n",
        "    print(f\"value.size(): {value.size()}\")\n",
        "\n",
        "    output=linear_layer(value)\n",
        "    print(f\"output.size(): {output.size()}\")\n",
        "\n",
        "    return output\n",
        "\n",
        "\n",
        "\n",
        "\n",
        "\n",
        "\n",
        "\n",
        "\n"
      ],
      "metadata": {
        "id": "H-d3yTIPwvGW"
      },
      "execution_count": 56,
      "outputs": []
    },
    {
      "cell_type": "markdown",
      "source": [
        "#input"
      ],
      "metadata": {
        "id": "ootfUTFJ06U2"
      }
    },
    {
      "cell_type": "code",
      "source": [
        "input_dim = 1024\n",
        "d_model = 512\n",
        "num_heads = 8\n",
        "\n",
        "\n",
        "batch_size=30\n",
        "seq_len=4\n",
        "x=torch.randn((batch_size,seq_len,input_dim))\n",
        "\n",
        "model=multi_head_attention(input_dim,d_model,num_heads)\n",
        "output=model.forward(x)\n",
        "output"
      ],
      "metadata": {
        "colab": {
          "base_uri": "https://localhost:8080/"
        },
        "id": "pqixj7TZ04Ws",
        "outputId": "1e494511-ff89-4fa2-ff20-0e68dd31c3b1"
      },
      "execution_count": 58,
      "outputs": [
        {
          "output_type": "stream",
          "name": "stdout",
          "text": [
            "x.size(): torch.Size([30, 4, 1024])\n",
            "qkv.size(): torch.Size([30, 4, 8, 192])\n",
            "changed_qkv.size(): torch.Size([30, 8, 4, 192])\n",
            "q.size(): torch.Size([30, 8, 4, 64])\n",
            "k.size(): torch.Size([30, 8, 4, 64])\n",
            "v.size(): torch.Size([30, 8, 4, 64])\n",
            "value.size(): torch.Size([30, 8, 4, 64])\n",
            "attention.size(): torch.Size([30, 8, 4, 4])\n",
            "value.size(): torch.Size([30, 4, 512])\n",
            "output.size(): torch.Size([30, 4, 512])\n"
          ]
        },
        {
          "output_type": "execute_result",
          "data": {
            "text/plain": [
              "tensor([[[ 0.0612,  0.0941,  0.1246,  ...,  0.2824,  0.1089,  0.1765],\n",
              "         [ 0.4583, -0.2270,  0.0458,  ...,  0.1541,  0.0425, -0.1707],\n",
              "         [ 0.0575, -0.0683,  0.0274,  ..., -0.1395, -0.1700,  0.1491],\n",
              "         [-0.0283, -0.1128,  0.2810,  ..., -0.0737, -0.0854, -0.2499]],\n",
              "\n",
              "        [[-0.0535, -0.1647,  0.1244,  ...,  0.2055,  0.3547,  0.1870],\n",
              "         [ 0.0160,  0.0115, -0.1131,  ..., -0.5118, -0.4362, -0.1604],\n",
              "         [ 0.0888, -0.0208,  0.2252,  ..., -0.0776,  0.0954, -0.1329],\n",
              "         [-0.0608, -0.2941,  0.0686,  ..., -0.1497, -0.1644, -0.1684]],\n",
              "\n",
              "        [[ 0.0278, -0.0259,  0.3064,  ..., -0.1668, -0.1792,  0.0327],\n",
              "         [ 0.3543, -0.1377, -0.0829,  ...,  0.1527,  0.1891,  0.3151],\n",
              "         [-0.1464,  0.1110, -0.1059,  ...,  0.1391,  0.2016, -0.2284],\n",
              "         [-0.1448, -0.0581, -0.1199,  ..., -0.2126, -0.0143, -0.1857]],\n",
              "\n",
              "        ...,\n",
              "\n",
              "        [[-0.2626, -0.3326,  0.1676,  ..., -0.1305, -0.0812,  0.2492],\n",
              "         [-0.1444, -0.2621, -0.1091,  ..., -0.1266,  0.0360, -0.1537],\n",
              "         [-0.0206,  0.0356,  0.1889,  ..., -0.1771, -0.3234, -0.4826],\n",
              "         [-0.0208, -0.1265, -0.0073,  ..., -0.2619,  0.2043, -0.0024]],\n",
              "\n",
              "        [[ 0.0345, -0.1642,  0.1163,  ..., -0.0197,  0.4360, -0.0591],\n",
              "         [ 0.0669, -0.2283,  0.0389,  ..., -0.2331,  0.0024, -0.0657],\n",
              "         [-0.0244, -0.0294, -0.2007,  ..., -0.3470,  0.1131, -0.2767],\n",
              "         [-0.1176, -0.1606,  0.2754,  ...,  0.2669,  0.1094,  0.0837]],\n",
              "\n",
              "        [[-0.1297, -0.0619, -0.1493,  ...,  0.1541, -0.0230, -0.0638],\n",
              "         [-0.1745, -0.0325,  0.3081,  ..., -0.0867, -0.2551, -0.1538],\n",
              "         [-0.3103,  0.1738,  0.3790,  ...,  0.2287,  0.0031, -0.1736],\n",
              "         [-0.1308, -0.0919,  0.0172,  ...,  0.0164,  0.0557,  0.1190]]],\n",
              "       grad_fn=<ViewBackward0>)"
            ]
          },
          "metadata": {},
          "execution_count": 58
        }
      ]
    },
    {
      "cell_type": "code",
      "source": [],
      "metadata": {
        "id": "K40G0s491ag0"
      },
      "execution_count": null,
      "outputs": []
    }
  ]
}