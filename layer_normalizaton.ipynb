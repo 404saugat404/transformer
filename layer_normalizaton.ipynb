{
  "nbformat": 4,
  "nbformat_minor": 0,
  "metadata": {
    "colab": {
      "provenance": []
    },
    "kernelspec": {
      "name": "python3",
      "display_name": "Python 3"
    },
    "language_info": {
      "name": "python"
    }
  },
  "cells": [
    {
      "cell_type": "markdown",
      "source": [
        "here, we will learn about layer normalization"
      ],
      "metadata": {
        "id": "V2QUF0DwbiXD"
      }
    },
    {
      "cell_type": "markdown",
      "source": [
        "Layer Normalization is a technique used in machine learning and artificial intelligence to normalize the inputs of a neural network layer. It ensures that the inputs have a consistent distribution and reduces the internal covariate shift problem that can occur during training."
      ],
      "metadata": {
        "id": "7fxS4CUMb0DJ"
      }
    },
    {
      "cell_type": "markdown",
      "source": [
        "the various importance of layer normalization are\n",
        "*    Stabilizes training by reducing internal covariate shift.\n",
        "*    Improves gradient flow, preventing vanishing or exploding gradients.\n",
        "*    Better suited for sequential data compared to batch normalization.\n",
        "*    Eliminates dependency on batch size, enabling small batch training.\n",
        "*    Enhances convergence speed and model performance.\n",
        "*    Normalizes across each layer's activations rather than across the batch.\n",
        "*    Helps models generalize better by reducing overfitting.\n",
        "\n",
        "\n",
        "\n"
      ],
      "metadata": {
        "id": "YVbg5d8Zb3q-"
      }
    },
    {
      "cell_type": "code",
      "execution_count": 2,
      "metadata": {
        "colab": {
          "base_uri": "https://localhost:8080/"
        },
        "id": "sn_1PNM8bfuQ",
        "outputId": "64697212-2960-4504-db42-451c87657431"
      },
      "outputs": [
        {
          "output_type": "execute_result",
          "data": {
            "text/plain": [
              "torch.Size([2, 1, 3])"
            ]
          },
          "metadata": {},
          "execution_count": 2
        }
      ],
      "source": [
        "import torch\n",
        "from torch import nn\n",
        "inputs = torch.Tensor([[[0.2, 0.1, 0.3], [0.5, 0.1, 0.1]]])\n",
        "\n",
        "B,S,E=inputs.size()\n",
        "inputs=inputs.reshape(S,B,E)\n",
        "inputs.size()\n",
        "\n",
        "#B=BATCH_SIZE,S=seq length, E=embedding\n"
      ]
    },
    {
      "cell_type": "code",
      "source": [
        "inputs"
      ],
      "metadata": {
        "colab": {
          "base_uri": "https://localhost:8080/"
        },
        "id": "Vif7sPGrnbx5",
        "outputId": "61a8b266-b391-4d65-cb15-aac5b93109ae"
      },
      "execution_count": 3,
      "outputs": [
        {
          "output_type": "execute_result",
          "data": {
            "text/plain": [
              "tensor([[[0.2000, 0.1000, 0.3000]],\n",
              "\n",
              "        [[0.5000, 0.1000, 0.1000]]])"
            ]
          },
          "metadata": {},
          "execution_count": 3
        }
      ]
    },
    {
      "cell_type": "code",
      "source": [
        "parameters_shape=inputs.shape[-2:]\n",
        "gamma=nn.Parameter(torch.ones(parameters_shape))\n",
        "beta=nn.Parameter(torch.zeros(parameters_shape))\n",
        "\n",
        "#gama and beta are learnable parameters\n"
      ],
      "metadata": {
        "id": "vl_q3N7InqPG"
      },
      "execution_count": 18,
      "outputs": []
    },
    {
      "cell_type": "code",
      "source": [
        "gamma,gamma.shape, beta,beta.shape"
      ],
      "metadata": {
        "colab": {
          "base_uri": "https://localhost:8080/"
        },
        "id": "UfshyUGcodw3",
        "outputId": "d1f5e46c-271e-4623-ec1d-91c85125bbdd"
      },
      "execution_count": 8,
      "outputs": [
        {
          "output_type": "execute_result",
          "data": {
            "text/plain": [
              "(Parameter containing:\n",
              " tensor([[1., 1., 1.]], requires_grad=True),\n",
              " torch.Size([1, 3]),\n",
              " Parameter containing:\n",
              " tensor([[0., 0., 0.]], requires_grad=True),\n",
              " torch.Size([1, 3]))"
            ]
          },
          "metadata": {},
          "execution_count": 8
        }
      ]
    },
    {
      "cell_type": "code",
      "source": [
        "dims=[-(i+1) for i in range(len(parameters_shape))]\n",
        "dims\n",
        "#so why dims??The dims list is used to identify the last two dimensions of the tensor, which will likely be used later for applying transformations like scaling (via gamma) or shifting (via beta)."
      ],
      "metadata": {
        "colab": {
          "base_uri": "https://localhost:8080/"
        },
        "id": "htWdFqWGomqt",
        "outputId": "8ef278fe-bfb9-4411-bd29-febb109fa468"
      },
      "execution_count": 9,
      "outputs": [
        {
          "output_type": "execute_result",
          "data": {
            "text/plain": [
              "[-1, -2]"
            ]
          },
          "metadata": {},
          "execution_count": 9
        }
      ]
    },
    {
      "cell_type": "code",
      "source": [
        "#Now lets calculate the mean\n",
        "mean=inputs.mean(dim=dims,keepdim=True)\n",
        "mean"
      ],
      "metadata": {
        "colab": {
          "base_uri": "https://localhost:8080/"
        },
        "id": "m3zVB0I7sDZg",
        "outputId": "a0ffb957-9fa3-491d-88f8-33d5d727f2a1"
      },
      "execution_count": 10,
      "outputs": [
        {
          "output_type": "execute_result",
          "data": {
            "text/plain": [
              "tensor([[[0.2000]],\n",
              "\n",
              "        [[0.2333]]])"
            ]
          },
          "metadata": {},
          "execution_count": 10
        }
      ]
    },
    {
      "cell_type": "code",
      "source": [
        "#now lets calculate variance\n",
        "variance=(inputs-mean).pow(2).mean(dim=dims,keepdim=True)\n",
        "epsilon = 1e-5\n",
        "SD=(variance+epsilon).sqrt()\n",
        "SD\n"
      ],
      "metadata": {
        "colab": {
          "base_uri": "https://localhost:8080/"
        },
        "id": "GuYTaRMNtd-b",
        "outputId": "df9514d8-98df-47ef-f681-6bfd55076141"
      },
      "execution_count": 12,
      "outputs": [
        {
          "output_type": "execute_result",
          "data": {
            "text/plain": [
              "tensor([[[0.0817]],\n",
              "\n",
              "        [[0.1886]]])"
            ]
          },
          "metadata": {},
          "execution_count": 12
        }
      ]
    },
    {
      "cell_type": "code",
      "source": [
        "y=(inputs-mean)/SD"
      ],
      "metadata": {
        "id": "Ix_NWiLwum3O"
      },
      "execution_count": 15,
      "outputs": []
    },
    {
      "cell_type": "code",
      "source": [
        "output=gamma*y+beta\n",
        "output"
      ],
      "metadata": {
        "colab": {
          "base_uri": "https://localhost:8080/"
        },
        "id": "_GFwkrTNuYkv",
        "outputId": "a8f9a4a2-eeb3-45f4-9b06-abb21efcc700"
      },
      "execution_count": 17,
      "outputs": [
        {
          "output_type": "execute_result",
          "data": {
            "text/plain": [
              "tensor([[[ 0.0000, -1.2238,  1.2238]],\n",
              "\n",
              "        [[ 1.4140, -0.7070, -0.7070]]], grad_fn=<AddBackward0>)"
            ]
          },
          "metadata": {},
          "execution_count": 17
        }
      ]
    },
    {
      "cell_type": "code",
      "source": [
        "#now lets do all thing by using class\n",
        "\n",
        "class LayerNormalization(nn.Module):\n",
        "  def __init__(self,parameters_shape,eps=1e-5):\n",
        "    super().__init__()\n",
        "    self.parameters_shape=parameters_shape\n",
        "    self.eps=eps\n",
        "    self.gamma=nn.Parameter(torch.ones(self.parameters_shape))\n",
        "    self.beta=nn.Parameter(torch.zeros(self.parameters_shape))\n",
        "\n",
        "  def forward(self,input):\n",
        "    dims=[-(i+1) for i in range(len(self.parameters_shape))]\n",
        "\n",
        "    mean=inputs.mean(dim=dims,keepdim=True)\n",
        "    print(f\"Mean \\n ({mean.size()}): \\n {mean}\")\n",
        "\n",
        "    variance=(inputs-mean).pow(2).mean(dim=dims,keepdim=True)\n",
        "    SD=(variance+self.eps).sqrt()\n",
        "    print(f\"Standard Deviation \\n ({SD.size()}): \\n {SD}\")\n",
        "\n",
        "    y=(inputs-mean)/SD\n",
        "    print(f\"y \\n ({y.size()}) = \\n {y}\")\n",
        "\n",
        "    output=self.gamma*y+self.beta\n",
        "    print(f\"out \\n ({output.size()}) = \\n {output}\")\n",
        "\n",
        "    return output\n"
      ],
      "metadata": {
        "id": "SpBMQ26KumRx"
      },
      "execution_count": 35,
      "outputs": []
    },
    {
      "cell_type": "code",
      "source": [
        "\n",
        "batch_size = 3\n",
        "sentence_length = 5\n",
        "embedding_dim = 8\n",
        "inputs = torch.randn(sentence_length, batch_size, embedding_dim)"
      ],
      "metadata": {
        "id": "_f5oQJ_qwHgY"
      },
      "execution_count": 36,
      "outputs": []
    },
    {
      "cell_type": "code",
      "source": [
        "print(f\"input \\n ({inputs.size()}) = \\n {inputs}\")"
      ],
      "metadata": {
        "colab": {
          "base_uri": "https://localhost:8080/"
        },
        "id": "r_mRGnKcwKpr",
        "outputId": "68d34002-31dc-45ac-d1a4-d4d9eccdb2ed"
      },
      "execution_count": 37,
      "outputs": [
        {
          "output_type": "stream",
          "name": "stdout",
          "text": [
            "input \n",
            " (torch.Size([5, 3, 8])) = \n",
            " tensor([[[ 1.6015,  0.0672, -2.1790,  0.5983, -0.0319, -0.2776,  0.1698,\n",
            "          -0.4997],\n",
            "         [ 0.4115, -0.5325,  1.5310, -0.3325,  1.3894, -1.4370, -1.5425,\n",
            "           1.4672],\n",
            "         [ 1.5566,  0.1266, -0.8267,  1.4627, -0.8166,  0.3438,  0.7982,\n",
            "           0.8133]],\n",
            "\n",
            "        [[ 0.6343, -0.8681, -1.1520, -1.0864,  0.2574,  1.1658, -0.5718,\n",
            "          -1.0948],\n",
            "         [ 0.1874, -1.5801,  0.8071, -0.2802, -0.6323,  0.7004,  0.7074,\n",
            "          -1.2898],\n",
            "         [ 0.4410,  0.0846,  0.5472, -0.2635, -1.0006,  0.8925, -1.1859,\n",
            "          -1.7671]],\n",
            "\n",
            "        [[ 0.6052,  0.4204,  1.1780,  0.3145,  0.8102,  0.9300,  1.9683,\n",
            "          -0.1992],\n",
            "         [ 1.6946,  0.2956, -0.0725,  1.0973, -0.6916, -0.4401,  2.1340,\n",
            "           0.1986],\n",
            "         [-2.0556,  0.8018,  0.8110, -1.1832, -0.1048, -0.2836, -0.0252,\n",
            "          -0.1234]],\n",
            "\n",
            "        [[ 0.1273,  0.2326,  0.4985, -0.1163, -0.7773, -0.5526, -0.5036,\n",
            "          -1.1406],\n",
            "         [ 0.0606, -0.3598, -0.9579, -1.8460, -0.3181,  0.9942, -0.4557,\n",
            "           0.9541],\n",
            "         [-1.5851,  0.2079, -0.6944,  0.7335, -0.0453, -0.9248, -1.3056,\n",
            "          -0.3588]],\n",
            "\n",
            "        [[-0.5640,  0.2165,  0.7630, -1.0317,  0.4104,  0.4853,  2.0311,\n",
            "           0.7033],\n",
            "         [ 0.4552, -0.4918, -1.2330, -0.2352, -0.9920,  0.5583, -0.8872,\n",
            "          -0.7432],\n",
            "         [-0.1091,  1.4029, -0.1897, -1.4395, -0.5000, -1.1724,  0.9114,\n",
            "          -0.0343]]])\n"
          ]
        }
      ]
    },
    {
      "cell_type": "code",
      "source": [
        "layer_norm=LayerNormalization(inputs.shape[-1:])"
      ],
      "metadata": {
        "id": "4qzzoWlJwOw9"
      },
      "execution_count": 38,
      "outputs": []
    },
    {
      "cell_type": "code",
      "source": [
        "output=layer_norm.forward(inputs)"
      ],
      "metadata": {
        "colab": {
          "base_uri": "https://localhost:8080/"
        },
        "id": "5QbX46_pwYxJ",
        "outputId": "3c29dd8a-89c2-45f5-b342-979c28168a9f"
      },
      "execution_count": 39,
      "outputs": [
        {
          "output_type": "stream",
          "name": "stdout",
          "text": [
            "Mean \n",
            " (torch.Size([5, 3, 1])): \n",
            " tensor([[[-0.0689],\n",
            "         [ 0.1193],\n",
            "         [ 0.4322]],\n",
            "\n",
            "        [[-0.3394],\n",
            "         [-0.1725],\n",
            "         [-0.2815]],\n",
            "\n",
            "        [[ 0.7534],\n",
            "         [ 0.5270],\n",
            "         [-0.2704]],\n",
            "\n",
            "        [[-0.2790],\n",
            "         [-0.2411],\n",
            "         [-0.4966]],\n",
            "\n",
            "        [[ 0.3767],\n",
            "         [-0.4461],\n",
            "         [-0.1413]]])\n",
            "Standard Deviation \n",
            " (torch.Size([5, 3, 1])): \n",
            " tensor([[[0.9996],\n",
            "         [1.1896],\n",
            "         [0.8552]],\n",
            "\n",
            "        [[0.8435],\n",
            "         [0.8716],\n",
            "         [0.8848]],\n",
            "\n",
            "        [[0.6045],\n",
            "         [0.9495],\n",
            "         [0.8978]],\n",
            "\n",
            "        [[0.5213],\n",
            "         [0.8804],\n",
            "         [0.7326]],\n",
            "\n",
            "        [[0.8588],\n",
            "         [0.6193],\n",
            "         [0.8933]]])\n",
            "y \n",
            " (torch.Size([5, 3, 8])) = \n",
            " tensor([[[ 1.6710,  0.1362, -2.1109,  0.6674,  0.0371, -0.2087,  0.2389,\n",
            "          -0.4310],\n",
            "         [ 0.2456, -0.5479,  1.1867, -0.3798,  1.0676, -1.3083, -1.3970,\n",
            "           1.1331],\n",
            "         [ 1.3147, -0.3574, -1.4721,  1.2050, -1.4603, -0.1035,  0.4279,\n",
            "           0.4456]],\n",
            "\n",
            "        [[ 1.1543, -0.6267, -0.9633, -0.8855,  0.7076,  1.7845, -0.2755,\n",
            "          -0.8954],\n",
            "         [ 0.4129, -1.6149,  1.1238, -0.1235, -0.5275,  1.0014,  1.0095,\n",
            "          -1.2819],\n",
            "         [ 0.8165,  0.4137,  0.9365,  0.0203, -0.8128,  1.3268, -1.0222,\n",
            "          -1.6789]],\n",
            "\n",
            "        [[-0.2452, -0.5509,  0.7023, -0.7260,  0.0939,  0.2921,  2.0097,\n",
            "          -1.5758],\n",
            "         [ 1.2297, -0.2437, -0.6314,  0.6006, -1.2834, -1.0185,  1.6925,\n",
            "          -0.3458],\n",
            "         [-1.9884,  1.1942,  1.2045, -1.0167,  0.1844, -0.0147,  0.2731,\n",
            "           0.1637]],\n",
            "\n",
            "        [[ 0.7795,  0.9815,  1.4915,  0.3121, -0.9559, -0.5249, -0.4309,\n",
            "          -1.6528],\n",
            "         [ 0.3426, -0.1348, -0.8142, -1.8229, -0.0875,  1.4031, -0.2438,\n",
            "           1.3575],\n",
            "         [-1.4858,  0.9616, -0.2700,  1.6789,  0.6160, -0.5845, -1.1043,\n",
            "           0.1880]],\n",
            "\n",
            "        [[-1.0954, -0.1867,  0.4498, -1.6400,  0.0392,  0.1264,  1.9264,\n",
            "           0.3803],\n",
            "         [ 1.4554, -0.0737, -1.2707,  0.3406, -0.8815,  1.6220, -0.7123,\n",
            "          -0.4797],\n",
            "         [ 0.0361,  1.7286, -0.0541, -1.4531, -0.4014, -1.1542,  1.1784,\n",
            "           0.1198]]])\n",
            "out \n",
            " (torch.Size([5, 3, 8])) = \n",
            " tensor([[[ 1.6710,  0.1362, -2.1109,  0.6674,  0.0371, -0.2087,  0.2389,\n",
            "          -0.4310],\n",
            "         [ 0.2456, -0.5479,  1.1867, -0.3798,  1.0676, -1.3083, -1.3970,\n",
            "           1.1331],\n",
            "         [ 1.3147, -0.3574, -1.4721,  1.2050, -1.4603, -0.1035,  0.4279,\n",
            "           0.4456]],\n",
            "\n",
            "        [[ 1.1543, -0.6267, -0.9633, -0.8855,  0.7076,  1.7845, -0.2755,\n",
            "          -0.8954],\n",
            "         [ 0.4129, -1.6149,  1.1238, -0.1235, -0.5275,  1.0014,  1.0095,\n",
            "          -1.2819],\n",
            "         [ 0.8165,  0.4137,  0.9365,  0.0203, -0.8128,  1.3268, -1.0222,\n",
            "          -1.6789]],\n",
            "\n",
            "        [[-0.2452, -0.5509,  0.7023, -0.7260,  0.0939,  0.2921,  2.0097,\n",
            "          -1.5758],\n",
            "         [ 1.2297, -0.2437, -0.6314,  0.6006, -1.2834, -1.0185,  1.6925,\n",
            "          -0.3458],\n",
            "         [-1.9884,  1.1942,  1.2045, -1.0167,  0.1844, -0.0147,  0.2731,\n",
            "           0.1637]],\n",
            "\n",
            "        [[ 0.7795,  0.9815,  1.4915,  0.3121, -0.9559, -0.5249, -0.4309,\n",
            "          -1.6528],\n",
            "         [ 0.3426, -0.1348, -0.8142, -1.8229, -0.0875,  1.4031, -0.2438,\n",
            "           1.3575],\n",
            "         [-1.4858,  0.9616, -0.2700,  1.6789,  0.6160, -0.5845, -1.1043,\n",
            "           0.1880]],\n",
            "\n",
            "        [[-1.0954, -0.1867,  0.4498, -1.6400,  0.0392,  0.1264,  1.9264,\n",
            "           0.3803],\n",
            "         [ 1.4554, -0.0737, -1.2707,  0.3406, -0.8815,  1.6220, -0.7123,\n",
            "          -0.4797],\n",
            "         [ 0.0361,  1.7286, -0.0541, -1.4531, -0.4014, -1.1542,  1.1784,\n",
            "           0.1198]]], grad_fn=<AddBackward0>)\n"
          ]
        }
      ]
    },
    {
      "cell_type": "code",
      "source": [
        "output[0].mean(),output[0].std()"
      ],
      "metadata": {
        "colab": {
          "base_uri": "https://localhost:8080/"
        },
        "id": "Fcn56v92wjQM",
        "outputId": "696b3165-b7a2-447f-8d7c-bbf94afe5e98"
      },
      "execution_count": 40,
      "outputs": [
        {
          "output_type": "execute_result",
          "data": {
            "text/plain": [
              "(tensor(1.9868e-08, grad_fn=<MeanBackward0>),\n",
              " tensor(1.0215, grad_fn=<StdBackward0>))"
            ]
          },
          "metadata": {},
          "execution_count": 40
        }
      ]
    },
    {
      "cell_type": "code",
      "source": [],
      "metadata": {
        "id": "5jaEXmJcwlUO"
      },
      "execution_count": null,
      "outputs": []
    }
  ]
}